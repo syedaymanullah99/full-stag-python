{
 "cells": [
  {
   "cell_type": "code",
   "execution_count": 2,
   "id": "e4b61f92-5c93-453d-875d-5e268c041646",
   "metadata": {},
   "outputs": [
    {
     "name": "stdout",
     "output_type": "stream",
     "text": [
      "hello, Python Full Stock Student\n"
     ]
    }
   ],
   "source": [
    "print(\"hello, Python Full Stock Student\")"
   ]
  },
  {
   "cell_type": "code",
   "execution_count": 4,
   "id": "1a7205eb-da8e-43a5-8ced-94be46e82ec9",
   "metadata": {},
   "outputs": [
    {
     "name": "stdout",
     "output_type": "stream",
     "text": [
      "my name is syed aymanullah\n"
     ]
    }
   ],
   "source": [
    "print(\"my name is syed aymanullah\")"
   ]
  },
  {
   "cell_type": "code",
   "execution_count": 5,
   "id": "db69caa2-8a62-489e-b70a-f1c1a9ebe857",
   "metadata": {},
   "outputs": [
    {
     "name": "stdout",
     "output_type": "stream",
     "text": [
      "iam very sad today\n"
     ]
    }
   ],
   "source": [
    "print(\"iam very sad today\")"
   ]
  },
  {
   "cell_type": "code",
   "execution_count": 9,
   "id": "cd812ddf-32c5-4602-bcde-c4df2a5f94aa",
   "metadata": {},
   "outputs": [
    {
     "name": "stdout",
     "output_type": "stream",
     "text": [
      "syed ayman 18 7.4 True\n"
     ]
    }
   ],
   "source": [
    "name=\"syed ayman\" \n",
    "age=18\n",
    "gpa=7.4\n",
    "is_student=True\n",
    "print(name, age, gpa, is_student)"
   ]
  },
  {
   "cell_type": "code",
   "execution_count": 13,
   "id": "18e3a30d-e27a-4718-9ee3-2820334073a0",
   "metadata": {},
   "outputs": [
    {
     "name": "stdout",
     "output_type": "stream",
     "text": [
      "syed ayaan 17 8.4 True\n"
     ]
    }
   ],
   "source": [
    "name=\"syed ayaan\"\n",
    "age=17\n",
    "gpa=8.4\n",
    "is_student=True\n",
    "print(name, age, gpa, is_student)"
   ]
  },
  {
   "cell_type": "code",
   "execution_count": 12,
   "id": "ce4c6366-00a1-4811-9c78-3ebc3a697389",
   "metadata": {},
   "outputs": [
    {
     "name": "stdout",
     "output_type": "stream",
     "text": [
      "<class 'int'> <class 'float'> <class 'str'> <class 'bool'>\n"
     ]
    }
   ],
   "source": [
    "x=18\n",
    "y=6.8\n",
    "z=\"syed ayman\"\n",
    "flag=False\n",
    "\n",
    "print(type(x), type(y), type(z), type(flag))"
   ]
  },
  {
   "cell_type": "code",
   "execution_count": 14,
   "id": "94526eda-c801-4260-a2d3-f6f0668edcd8",
   "metadata": {},
   "outputs": [
    {
     "name": "stdout",
     "output_type": "stream",
     "text": [
      "syedayman Avinash arabic\n"
     ]
    }
   ],
   "source": [
    "name=\"syedayman\"\n",
    "college=\"Avinash\"\n",
    "language=\"arabic\"\n",
    "\n",
    "print(name, college, language)"
   ]
  },
  {
   "cell_type": "code",
   "execution_count": 16,
   "id": "1195021a-0557-41cf-b07c-49fdffbb8b96",
   "metadata": {},
   "outputs": [
    {
     "data": {
      "text/plain": [
       "-18"
      ]
     },
     "execution_count": 16,
     "metadata": {},
     "output_type": "execute_result"
    }
   ],
   "source": [
    "DOB=2007\n",
    "year=2025\n",
    "DOB-year"
   ]
  },
  {
   "cell_type": "code",
   "execution_count": 19,
   "id": "8cd2b483-1c09-40b1-bcd0-c4969687b04b",
   "metadata": {},
   "outputs": [
    {
     "name": "stdout",
     "output_type": "stream",
     "text": [
      "maa 2025 9\n"
     ]
    }
   ],
   "source": [
    "movie=\"maa\"\n",
    "release_year=2025\n",
    "rating=9\n",
    "print(movie, release_year, rating)"
   ]
  },
  {
   "cell_type": "code",
   "execution_count": 20,
   "id": "8c5d4a89-0a8b-427b-903b-6d8c0b87d3d9",
   "metadata": {
    "scrolled": true
   },
   "outputs": [
    {
     "name": "stdout",
     "output_type": "stream",
     "text": [
      "addtion: 55\n",
      "division: 10.0\n",
      "Floor DIvision: 10\n",
      "power: 312500000\n"
     ]
    }
   ],
   "source": [
    "a=50\n",
    "b=5\n",
    "print(\"addtion:\",a+b)\n",
    "print(\"division:\",a/b)\n",
    "print(\"Floor DIvision:\",a//b)\n",
    "print(\"power:\",a ** b)"
   ]
  },
  {
   "cell_type": "code",
   "execution_count": 23,
   "id": "d4cec933-82e6-409a-b771-15b74e1fa03b",
   "metadata": {},
   "outputs": [
    {
     "name": "stdout",
     "output_type": "stream",
     "text": [
      "False\n",
      "True\n",
      "True\n",
      "True\n"
     ]
    }
   ],
   "source": [
    "a=10\n",
    "b=20\n",
    "\n",
    "print(a>b) #false\n",
    "print(a==10) #true\n",
    "print(a<b) #true\n",
    "print(b==20) #true"
   ]
  },
  {
   "cell_type": "code",
   "execution_count": 1,
   "id": "243859bc-3981-49f0-b7fc-17239183ba79",
   "metadata": {},
   "outputs": [
    {
     "name": "stdout",
     "output_type": "stream",
     "text": [
      "['apple', 'banana', 'mango', 'orange']\n"
     ]
    }
   ],
   "source": [
    "fruits=[\"apple\", \"banana\", \"mango\"]\n",
    "fruits.append(\"orange\")\n",
    "print(fruits)"
   ]
  },
  {
   "cell_type": "code",
   "execution_count": 2,
   "id": "b35a2ddb-a7a5-4c8f-ab6b-0c1e8db89ad0",
   "metadata": {},
   "outputs": [
    {
     "name": "stdout",
     "output_type": "stream",
     "text": [
      "('red', 'green', 'blue')\n"
     ]
    }
   ],
   "source": [
    "colour=(\"red\", \"green\", \"blue\")\n",
    "print(colour)"
   ]
  },
  {
   "cell_type": "code",
   "execution_count": 7,
   "id": "681d7842-9372-496f-8e3b-39ab7790801f",
   "metadata": {},
   "outputs": [
    {
     "name": "stdout",
     "output_type": "stream",
     "text": [
      "['apple', 'mango', 'orange']\n"
     ]
    }
   ],
   "source": [
    "fruits = [\"apple\", \"banana\", \"mango\"]\n",
    "fruits.append(\"orange\")\n",
    "fruits.remove(\"banana\")\n",
    "fruits.sort()\n",
    "print(fruits)"
   ]
  },
  {
   "cell_type": "code",
   "execution_count": 13,
   "id": "0d30948a-ce47-4e19-876a-5e99e13c3f01",
   "metadata": {},
   "outputs": [
    {
     "name": "stdout",
     "output_type": "stream",
     "text": [
      "red\n"
     ]
    }
   ],
   "source": [
    "colour=(\"red\", \"green\", \"blue\")\n",
    "print(colour[0])\n",
    "# colour[1] = \"yellow\""
   ]
  },
  {
   "cell_type": "code",
   "execution_count": null,
   "id": "fe1fa2e0-e719-4fa3-aee3-87b3a82a632d",
   "metadata": {},
   "outputs": [],
   "source": []
  },
  {
   "cell_type": "code",
   "execution_count": 30,
   "id": "4c8eff3b-e2bd-4714-aece-2d59eeb6a1c5",
   "metadata": {},
   "outputs": [
    {
     "name": "stdout",
     "output_type": "stream",
     "text": [
      "syed ayman\n"
     ]
    }
   ],
   "source": [
    "student={\n",
    "    \"name\":\"syed ayman\",\n",
    "    \"age\":18,\n",
    "    \"course\":\"python full stack\"}\n",
    "print(student[\"name\"]) #syed ayman"
   ]
  },
  {
   "cell_type": "code",
   "execution_count": null,
   "id": "6f6cc066-155f-424f-ab7f-9fcf94b83ed2",
   "metadata": {},
   "outputs": [],
   "source": []
  },
  {
   "cell_type": "code",
   "execution_count": 32,
   "id": "ee51504e-70fd-4cd1-9afe-cbafa1ac07bc",
   "metadata": {},
   "outputs": [
    {
     "name": "stdout",
     "output_type": "stream",
     "text": [
      "Grade: B\n"
     ]
    }
   ],
   "source": [
    "marks=75\n",
    "if marks>=90:\n",
    "    print(\"Grade: A\")\n",
    "elif marks >=75:\n",
    "    print(\"Grade: B\")\n",
    "elif marks >+50:\n",
    "    print(\"Grade: C\")\n",
    "else:\n",
    "    print(\"Grade: fail\")"
   ]
  },
  {
   "cell_type": "code",
   "execution_count": 35,
   "id": "050c84f9-d9ac-4349-b7ad-1c245923045e",
   "metadata": {},
   "outputs": [
    {
     "name": "stdout",
     "output_type": "stream",
     "text": [
      "number: 1\n",
      "number: 2\n",
      "number: 3\n",
      "number: 4\n",
      "number: 5\n"
     ]
    }
   ],
   "source": [
    "\n",
    "for i in range(1, 6):\n",
    "    print(\"number:\", i)"
   ]
  },
  {
   "cell_type": "code",
   "execution_count": 36,
   "id": "18c6d2c3-b305-4185-885c-e973171eef49",
   "metadata": {},
   "outputs": [
    {
     "name": "stdout",
     "output_type": "stream",
     "text": [
      "count: 1\n",
      "count: 2\n",
      "count: 3\n",
      "count: 4\n",
      "count: 5\n"
     ]
    }
   ],
   "source": [
    "count=1\n",
    "while count <= 5:\n",
    "    print(\"count:\",  count)\n",
    "    count +=1"
   ]
  },
  {
   "cell_type": "code",
   "execution_count": 48,
   "id": "fd8db511-4201-44b1-a2b9-25fb1ec1fc84",
   "metadata": {},
   "outputs": [
    {
     "name": "stdout",
     "output_type": "stream",
     "text": [
      "1\n",
      "2\n",
      "3\n",
      "4\n"
     ]
    }
   ],
   "source": [
    "for i in range(1, 10):\n",
    "    if i == 5:\n",
    "        break   #stop loop\n",
    "    print(i)"
   ]
  },
  {
   "cell_type": "code",
   "execution_count": null,
   "id": "2d47e47e-c828-465e-9196-fe4864342f78",
   "metadata": {},
   "outputs": [],
   "source": []
  },
  {
   "cell_type": "code",
   "execution_count": null,
   "id": "e9716bd1-c6a1-4d3c-a8e7-0d5a5d401648",
   "metadata": {},
   "outputs": [],
   "source": []
  },
  {
   "cell_type": "code",
   "execution_count": null,
   "id": "2a9dda07-02a1-4f3e-8a5a-63684cde589b",
   "metadata": {},
   "outputs": [],
   "source": []
  },
  {
   "cell_type": "code",
   "execution_count": null,
   "id": "a3b46cac-218b-4853-9226-b598906040c4",
   "metadata": {},
   "outputs": [],
   "source": []
  }
 ],
 "metadata": {
  "kernelspec": {
   "display_name": "Python [conda env:base] *",
   "language": "python",
   "name": "conda-base-py"
  },
  "language_info": {
   "codemirror_mode": {
    "name": "ipython",
    "version": 3
   },
   "file_extension": ".py",
   "mimetype": "text/x-python",
   "name": "python",
   "nbconvert_exporter": "python",
   "pygments_lexer": "ipython3",
   "version": "3.13.5"
  }
 },
 "nbformat": 4,
 "nbformat_minor": 5
}
